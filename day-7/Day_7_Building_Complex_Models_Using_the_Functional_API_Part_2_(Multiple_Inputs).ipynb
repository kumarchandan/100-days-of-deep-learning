{
  "nbformat": 4,
  "nbformat_minor": 0,
  "metadata": {
    "colab": {
      "name": "Day 7 - Building Complex Models Using the Functional API - Part - 2 (Multiple Inputs).ipynb",
      "provenance": [],
      "authorship_tag": "ABX9TyNhUd5JyCKf7Z/Rm/+IJztZ",
      "include_colab_link": true
    },
    "kernelspec": {
      "name": "python3",
      "display_name": "Python 3"
    }
  },
  "cells": [
    {
      "cell_type": "markdown",
      "metadata": {
        "id": "view-in-github",
        "colab_type": "text"
      },
      "source": [
        "<a href=\"https://colab.research.google.com/github/kumarchandan/100-days-of-deep-learning/blob/master/day-7/Day_7_Building_Complex_Models_Using_the_Functional_API_Part_2_(Multiple_Inputs).ipynb\" target=\"_parent\"><img src=\"https://colab.research.google.com/assets/colab-badge.svg\" alt=\"Open In Colab\"/></a>"
      ]
    },
    {
      "cell_type": "markdown",
      "metadata": {
        "id": "m56wqLxT-00V"
      },
      "source": [
        "# Building Complex Models Using the Functional API\n",
        "\n",
        "## California Housing Dataset"
      ]
    },
    {
      "cell_type": "code",
      "metadata": {
        "id": "cPitBhfekvm_",
        "outputId": "44ace0b6-c7bf-4a44-c8ea-b390d72771d5",
        "colab": {
          "base_uri": "https://localhost:8080/",
          "height": 34
        }
      },
      "source": [
        "from sklearn.datasets import fetch_california_housing\n",
        "from sklearn.preprocessing import StandardScaler\n",
        "from sklearn.model_selection import train_test_split\n",
        "\n",
        "housing = fetch_california_housing()\n"
      ],
      "execution_count": null,
      "outputs": [
        {
          "output_type": "stream",
          "text": [
            "Downloading Cal. housing from https://ndownloader.figshare.com/files/5976036 to /root/scikit_learn_data\n"
          ],
          "name": "stderr"
        }
      ]
    },
    {
      "cell_type": "code",
      "metadata": {
        "id": "EHsA-lgClfUN",
        "outputId": "eb7f62b3-f162-459a-f93f-7b06fda47136",
        "colab": {
          "base_uri": "https://localhost:8080/",
          "height": 428
        }
      },
      "source": [
        "housing"
      ],
      "execution_count": null,
      "outputs": [
        {
          "output_type": "execute_result",
          "data": {
            "text/plain": [
              "{'DESCR': '.. _california_housing_dataset:\\n\\nCalifornia Housing dataset\\n--------------------------\\n\\n**Data Set Characteristics:**\\n\\n    :Number of Instances: 20640\\n\\n    :Number of Attributes: 8 numeric, predictive attributes and the target\\n\\n    :Attribute Information:\\n        - MedInc        median income in block\\n        - HouseAge      median house age in block\\n        - AveRooms      average number of rooms\\n        - AveBedrms     average number of bedrooms\\n        - Population    block population\\n        - AveOccup      average house occupancy\\n        - Latitude      house block latitude\\n        - Longitude     house block longitude\\n\\n    :Missing Attribute Values: None\\n\\nThis dataset was obtained from the StatLib repository.\\nhttp://lib.stat.cmu.edu/datasets/\\n\\nThe target variable is the median house value for California districts.\\n\\nThis dataset was derived from the 1990 U.S. census, using one row per census\\nblock group. A block group is the smallest geographical unit for which the U.S.\\nCensus Bureau publishes sample data (a block group typically has a population\\nof 600 to 3,000 people).\\n\\nIt can be downloaded/loaded using the\\n:func:`sklearn.datasets.fetch_california_housing` function.\\n\\n.. topic:: References\\n\\n    - Pace, R. Kelley and Ronald Barry, Sparse Spatial Autoregressions,\\n      Statistics and Probability Letters, 33 (1997) 291-297\\n',\n",
              " 'data': array([[   8.3252    ,   41.        ,    6.98412698, ...,    2.55555556,\n",
              "           37.88      , -122.23      ],\n",
              "        [   8.3014    ,   21.        ,    6.23813708, ...,    2.10984183,\n",
              "           37.86      , -122.22      ],\n",
              "        [   7.2574    ,   52.        ,    8.28813559, ...,    2.80225989,\n",
              "           37.85      , -122.24      ],\n",
              "        ...,\n",
              "        [   1.7       ,   17.        ,    5.20554273, ...,    2.3256351 ,\n",
              "           39.43      , -121.22      ],\n",
              "        [   1.8672    ,   18.        ,    5.32951289, ...,    2.12320917,\n",
              "           39.43      , -121.32      ],\n",
              "        [   2.3886    ,   16.        ,    5.25471698, ...,    2.61698113,\n",
              "           39.37      , -121.24      ]]),\n",
              " 'feature_names': ['MedInc',\n",
              "  'HouseAge',\n",
              "  'AveRooms',\n",
              "  'AveBedrms',\n",
              "  'Population',\n",
              "  'AveOccup',\n",
              "  'Latitude',\n",
              "  'Longitude'],\n",
              " 'target': array([4.526, 3.585, 3.521, ..., 0.923, 0.847, 0.894])}"
            ]
          },
          "metadata": {
            "tags": []
          },
          "execution_count": 2
        }
      ]
    },
    {
      "cell_type": "code",
      "metadata": {
        "id": "ZDL3qE17mhGK",
        "outputId": "9b7b7968-f071-4ba6-a614-6c80270eb77d",
        "colab": {
          "base_uri": "https://localhost:8080/",
          "height": 68
        }
      },
      "source": [
        "print(housing.feature_names)\n",
        "# features: 8\n",
        "print(housing.data.shape)\n",
        "# target\n",
        "print(housing.target.shape)"
      ],
      "execution_count": null,
      "outputs": [
        {
          "output_type": "stream",
          "text": [
            "['MedInc', 'HouseAge', 'AveRooms', 'AveBedrms', 'Population', 'AveOccup', 'Latitude', 'Longitude']\n",
            "(20640, 8)\n",
            "(20640,)\n"
          ],
          "name": "stdout"
        }
      ]
    },
    {
      "cell_type": "code",
      "metadata": {
        "id": "krJB_BM6SKst",
        "outputId": "5f00b4d3-9b27-4ad1-a9e1-87b41c45c955",
        "colab": {
          "base_uri": "https://localhost:8080/",
          "height": 204
        }
      },
      "source": [
        "import pandas as pd\n",
        "\n",
        "housing_df = pd.DataFrame(housing.data, columns=housing.feature_names)\n",
        "housing_df.head()"
      ],
      "execution_count": null,
      "outputs": [
        {
          "output_type": "execute_result",
          "data": {
            "text/html": [
              "<div>\n",
              "<style scoped>\n",
              "    .dataframe tbody tr th:only-of-type {\n",
              "        vertical-align: middle;\n",
              "    }\n",
              "\n",
              "    .dataframe tbody tr th {\n",
              "        vertical-align: top;\n",
              "    }\n",
              "\n",
              "    .dataframe thead th {\n",
              "        text-align: right;\n",
              "    }\n",
              "</style>\n",
              "<table border=\"1\" class=\"dataframe\">\n",
              "  <thead>\n",
              "    <tr style=\"text-align: right;\">\n",
              "      <th></th>\n",
              "      <th>MedInc</th>\n",
              "      <th>HouseAge</th>\n",
              "      <th>AveRooms</th>\n",
              "      <th>AveBedrms</th>\n",
              "      <th>Population</th>\n",
              "      <th>AveOccup</th>\n",
              "      <th>Latitude</th>\n",
              "      <th>Longitude</th>\n",
              "    </tr>\n",
              "  </thead>\n",
              "  <tbody>\n",
              "    <tr>\n",
              "      <th>0</th>\n",
              "      <td>8.3252</td>\n",
              "      <td>41.0</td>\n",
              "      <td>6.984127</td>\n",
              "      <td>1.023810</td>\n",
              "      <td>322.0</td>\n",
              "      <td>2.555556</td>\n",
              "      <td>37.88</td>\n",
              "      <td>-122.23</td>\n",
              "    </tr>\n",
              "    <tr>\n",
              "      <th>1</th>\n",
              "      <td>8.3014</td>\n",
              "      <td>21.0</td>\n",
              "      <td>6.238137</td>\n",
              "      <td>0.971880</td>\n",
              "      <td>2401.0</td>\n",
              "      <td>2.109842</td>\n",
              "      <td>37.86</td>\n",
              "      <td>-122.22</td>\n",
              "    </tr>\n",
              "    <tr>\n",
              "      <th>2</th>\n",
              "      <td>7.2574</td>\n",
              "      <td>52.0</td>\n",
              "      <td>8.288136</td>\n",
              "      <td>1.073446</td>\n",
              "      <td>496.0</td>\n",
              "      <td>2.802260</td>\n",
              "      <td>37.85</td>\n",
              "      <td>-122.24</td>\n",
              "    </tr>\n",
              "    <tr>\n",
              "      <th>3</th>\n",
              "      <td>5.6431</td>\n",
              "      <td>52.0</td>\n",
              "      <td>5.817352</td>\n",
              "      <td>1.073059</td>\n",
              "      <td>558.0</td>\n",
              "      <td>2.547945</td>\n",
              "      <td>37.85</td>\n",
              "      <td>-122.25</td>\n",
              "    </tr>\n",
              "    <tr>\n",
              "      <th>4</th>\n",
              "      <td>3.8462</td>\n",
              "      <td>52.0</td>\n",
              "      <td>6.281853</td>\n",
              "      <td>1.081081</td>\n",
              "      <td>565.0</td>\n",
              "      <td>2.181467</td>\n",
              "      <td>37.85</td>\n",
              "      <td>-122.25</td>\n",
              "    </tr>\n",
              "  </tbody>\n",
              "</table>\n",
              "</div>"
            ],
            "text/plain": [
              "   MedInc  HouseAge  AveRooms  ...  AveOccup  Latitude  Longitude\n",
              "0  8.3252      41.0  6.984127  ...  2.555556     37.88    -122.23\n",
              "1  8.3014      21.0  6.238137  ...  2.109842     37.86    -122.22\n",
              "2  7.2574      52.0  8.288136  ...  2.802260     37.85    -122.24\n",
              "3  5.6431      52.0  5.817352  ...  2.547945     37.85    -122.25\n",
              "4  3.8462      52.0  6.281853  ...  2.181467     37.85    -122.25\n",
              "\n",
              "[5 rows x 8 columns]"
            ]
          },
          "metadata": {
            "tags": []
          },
          "execution_count": 4
        }
      ]
    },
    {
      "cell_type": "code",
      "metadata": {
        "id": "neAktMrhU4K1",
        "outputId": "173638f7-10be-4d2a-93e1-52bbe297f9a0",
        "colab": {
          "base_uri": "https://localhost:8080/",
          "height": 204
        }
      },
      "source": [
        "housing_df['sales'] = housing.target\n",
        "housing_df.head()"
      ],
      "execution_count": null,
      "outputs": [
        {
          "output_type": "execute_result",
          "data": {
            "text/html": [
              "<div>\n",
              "<style scoped>\n",
              "    .dataframe tbody tr th:only-of-type {\n",
              "        vertical-align: middle;\n",
              "    }\n",
              "\n",
              "    .dataframe tbody tr th {\n",
              "        vertical-align: top;\n",
              "    }\n",
              "\n",
              "    .dataframe thead th {\n",
              "        text-align: right;\n",
              "    }\n",
              "</style>\n",
              "<table border=\"1\" class=\"dataframe\">\n",
              "  <thead>\n",
              "    <tr style=\"text-align: right;\">\n",
              "      <th></th>\n",
              "      <th>MedInc</th>\n",
              "      <th>HouseAge</th>\n",
              "      <th>AveRooms</th>\n",
              "      <th>AveBedrms</th>\n",
              "      <th>Population</th>\n",
              "      <th>AveOccup</th>\n",
              "      <th>Latitude</th>\n",
              "      <th>Longitude</th>\n",
              "      <th>sales</th>\n",
              "    </tr>\n",
              "  </thead>\n",
              "  <tbody>\n",
              "    <tr>\n",
              "      <th>0</th>\n",
              "      <td>8.3252</td>\n",
              "      <td>41.0</td>\n",
              "      <td>6.984127</td>\n",
              "      <td>1.023810</td>\n",
              "      <td>322.0</td>\n",
              "      <td>2.555556</td>\n",
              "      <td>37.88</td>\n",
              "      <td>-122.23</td>\n",
              "      <td>4.526</td>\n",
              "    </tr>\n",
              "    <tr>\n",
              "      <th>1</th>\n",
              "      <td>8.3014</td>\n",
              "      <td>21.0</td>\n",
              "      <td>6.238137</td>\n",
              "      <td>0.971880</td>\n",
              "      <td>2401.0</td>\n",
              "      <td>2.109842</td>\n",
              "      <td>37.86</td>\n",
              "      <td>-122.22</td>\n",
              "      <td>3.585</td>\n",
              "    </tr>\n",
              "    <tr>\n",
              "      <th>2</th>\n",
              "      <td>7.2574</td>\n",
              "      <td>52.0</td>\n",
              "      <td>8.288136</td>\n",
              "      <td>1.073446</td>\n",
              "      <td>496.0</td>\n",
              "      <td>2.802260</td>\n",
              "      <td>37.85</td>\n",
              "      <td>-122.24</td>\n",
              "      <td>3.521</td>\n",
              "    </tr>\n",
              "    <tr>\n",
              "      <th>3</th>\n",
              "      <td>5.6431</td>\n",
              "      <td>52.0</td>\n",
              "      <td>5.817352</td>\n",
              "      <td>1.073059</td>\n",
              "      <td>558.0</td>\n",
              "      <td>2.547945</td>\n",
              "      <td>37.85</td>\n",
              "      <td>-122.25</td>\n",
              "      <td>3.413</td>\n",
              "    </tr>\n",
              "    <tr>\n",
              "      <th>4</th>\n",
              "      <td>3.8462</td>\n",
              "      <td>52.0</td>\n",
              "      <td>6.281853</td>\n",
              "      <td>1.081081</td>\n",
              "      <td>565.0</td>\n",
              "      <td>2.181467</td>\n",
              "      <td>37.85</td>\n",
              "      <td>-122.25</td>\n",
              "      <td>3.422</td>\n",
              "    </tr>\n",
              "  </tbody>\n",
              "</table>\n",
              "</div>"
            ],
            "text/plain": [
              "   MedInc  HouseAge  AveRooms  AveBedrms  ...  AveOccup  Latitude  Longitude  sales\n",
              "0  8.3252      41.0  6.984127   1.023810  ...  2.555556     37.88    -122.23  4.526\n",
              "1  8.3014      21.0  6.238137   0.971880  ...  2.109842     37.86    -122.22  3.585\n",
              "2  7.2574      52.0  8.288136   1.073446  ...  2.802260     37.85    -122.24  3.521\n",
              "3  5.6431      52.0  5.817352   1.073059  ...  2.547945     37.85    -122.25  3.413\n",
              "4  3.8462      52.0  6.281853   1.081081  ...  2.181467     37.85    -122.25  3.422\n",
              "\n",
              "[5 rows x 9 columns]"
            ]
          },
          "metadata": {
            "tags": []
          },
          "execution_count": 5
        }
      ]
    },
    {
      "cell_type": "code",
      "metadata": {
        "id": "qZa-xqvXVZx5",
        "outputId": "34e805ed-4257-4580-c7d6-58eb917a3f7b",
        "colab": {
          "base_uri": "https://localhost:8080/",
          "height": 328
        }
      },
      "source": [
        "corr_matrix = housing_df.corr()\n",
        "corr_matrix"
      ],
      "execution_count": null,
      "outputs": [
        {
          "output_type": "execute_result",
          "data": {
            "text/html": [
              "<div>\n",
              "<style scoped>\n",
              "    .dataframe tbody tr th:only-of-type {\n",
              "        vertical-align: middle;\n",
              "    }\n",
              "\n",
              "    .dataframe tbody tr th {\n",
              "        vertical-align: top;\n",
              "    }\n",
              "\n",
              "    .dataframe thead th {\n",
              "        text-align: right;\n",
              "    }\n",
              "</style>\n",
              "<table border=\"1\" class=\"dataframe\">\n",
              "  <thead>\n",
              "    <tr style=\"text-align: right;\">\n",
              "      <th></th>\n",
              "      <th>MedInc</th>\n",
              "      <th>HouseAge</th>\n",
              "      <th>AveRooms</th>\n",
              "      <th>AveBedrms</th>\n",
              "      <th>Population</th>\n",
              "      <th>AveOccup</th>\n",
              "      <th>Latitude</th>\n",
              "      <th>Longitude</th>\n",
              "      <th>sales</th>\n",
              "    </tr>\n",
              "  </thead>\n",
              "  <tbody>\n",
              "    <tr>\n",
              "      <th>MedInc</th>\n",
              "      <td>1.000000</td>\n",
              "      <td>-0.119034</td>\n",
              "      <td>0.326895</td>\n",
              "      <td>-0.062040</td>\n",
              "      <td>0.004834</td>\n",
              "      <td>0.018766</td>\n",
              "      <td>-0.079809</td>\n",
              "      <td>-0.015176</td>\n",
              "      <td>0.688075</td>\n",
              "    </tr>\n",
              "    <tr>\n",
              "      <th>HouseAge</th>\n",
              "      <td>-0.119034</td>\n",
              "      <td>1.000000</td>\n",
              "      <td>-0.153277</td>\n",
              "      <td>-0.077747</td>\n",
              "      <td>-0.296244</td>\n",
              "      <td>0.013191</td>\n",
              "      <td>0.011173</td>\n",
              "      <td>-0.108197</td>\n",
              "      <td>0.105623</td>\n",
              "    </tr>\n",
              "    <tr>\n",
              "      <th>AveRooms</th>\n",
              "      <td>0.326895</td>\n",
              "      <td>-0.153277</td>\n",
              "      <td>1.000000</td>\n",
              "      <td>0.847621</td>\n",
              "      <td>-0.072213</td>\n",
              "      <td>-0.004852</td>\n",
              "      <td>0.106389</td>\n",
              "      <td>-0.027540</td>\n",
              "      <td>0.151948</td>\n",
              "    </tr>\n",
              "    <tr>\n",
              "      <th>AveBedrms</th>\n",
              "      <td>-0.062040</td>\n",
              "      <td>-0.077747</td>\n",
              "      <td>0.847621</td>\n",
              "      <td>1.000000</td>\n",
              "      <td>-0.066197</td>\n",
              "      <td>-0.006181</td>\n",
              "      <td>0.069721</td>\n",
              "      <td>0.013344</td>\n",
              "      <td>-0.046701</td>\n",
              "    </tr>\n",
              "    <tr>\n",
              "      <th>Population</th>\n",
              "      <td>0.004834</td>\n",
              "      <td>-0.296244</td>\n",
              "      <td>-0.072213</td>\n",
              "      <td>-0.066197</td>\n",
              "      <td>1.000000</td>\n",
              "      <td>0.069863</td>\n",
              "      <td>-0.108785</td>\n",
              "      <td>0.099773</td>\n",
              "      <td>-0.024650</td>\n",
              "    </tr>\n",
              "    <tr>\n",
              "      <th>AveOccup</th>\n",
              "      <td>0.018766</td>\n",
              "      <td>0.013191</td>\n",
              "      <td>-0.004852</td>\n",
              "      <td>-0.006181</td>\n",
              "      <td>0.069863</td>\n",
              "      <td>1.000000</td>\n",
              "      <td>0.002366</td>\n",
              "      <td>0.002476</td>\n",
              "      <td>-0.023737</td>\n",
              "    </tr>\n",
              "    <tr>\n",
              "      <th>Latitude</th>\n",
              "      <td>-0.079809</td>\n",
              "      <td>0.011173</td>\n",
              "      <td>0.106389</td>\n",
              "      <td>0.069721</td>\n",
              "      <td>-0.108785</td>\n",
              "      <td>0.002366</td>\n",
              "      <td>1.000000</td>\n",
              "      <td>-0.924664</td>\n",
              "      <td>-0.144160</td>\n",
              "    </tr>\n",
              "    <tr>\n",
              "      <th>Longitude</th>\n",
              "      <td>-0.015176</td>\n",
              "      <td>-0.108197</td>\n",
              "      <td>-0.027540</td>\n",
              "      <td>0.013344</td>\n",
              "      <td>0.099773</td>\n",
              "      <td>0.002476</td>\n",
              "      <td>-0.924664</td>\n",
              "      <td>1.000000</td>\n",
              "      <td>-0.045967</td>\n",
              "    </tr>\n",
              "    <tr>\n",
              "      <th>sales</th>\n",
              "      <td>0.688075</td>\n",
              "      <td>0.105623</td>\n",
              "      <td>0.151948</td>\n",
              "      <td>-0.046701</td>\n",
              "      <td>-0.024650</td>\n",
              "      <td>-0.023737</td>\n",
              "      <td>-0.144160</td>\n",
              "      <td>-0.045967</td>\n",
              "      <td>1.000000</td>\n",
              "    </tr>\n",
              "  </tbody>\n",
              "</table>\n",
              "</div>"
            ],
            "text/plain": [
              "              MedInc  HouseAge  AveRooms  ...  Latitude  Longitude     sales\n",
              "MedInc      1.000000 -0.119034  0.326895  ... -0.079809  -0.015176  0.688075\n",
              "HouseAge   -0.119034  1.000000 -0.153277  ...  0.011173  -0.108197  0.105623\n",
              "AveRooms    0.326895 -0.153277  1.000000  ...  0.106389  -0.027540  0.151948\n",
              "AveBedrms  -0.062040 -0.077747  0.847621  ...  0.069721   0.013344 -0.046701\n",
              "Population  0.004834 -0.296244 -0.072213  ... -0.108785   0.099773 -0.024650\n",
              "AveOccup    0.018766  0.013191 -0.004852  ...  0.002366   0.002476 -0.023737\n",
              "Latitude   -0.079809  0.011173  0.106389  ...  1.000000  -0.924664 -0.144160\n",
              "Longitude  -0.015176 -0.108197 -0.027540  ... -0.924664   1.000000 -0.045967\n",
              "sales       0.688075  0.105623  0.151948  ... -0.144160  -0.045967  1.000000\n",
              "\n",
              "[9 rows x 9 columns]"
            ]
          },
          "metadata": {
            "tags": []
          },
          "execution_count": 6
        }
      ]
    },
    {
      "cell_type": "code",
      "metadata": {
        "id": "IqrG_ABrVsoB",
        "outputId": "242120a9-8a66-47cd-d880-4d2462ea4230",
        "colab": {
          "base_uri": "https://localhost:8080/",
          "height": 187
        }
      },
      "source": [
        "corr_matrix['sales'].sort_values(ascending=False)"
      ],
      "execution_count": null,
      "outputs": [
        {
          "output_type": "execute_result",
          "data": {
            "text/plain": [
              "sales         1.000000\n",
              "MedInc        0.688075\n",
              "AveRooms      0.151948\n",
              "HouseAge      0.105623\n",
              "AveOccup     -0.023737\n",
              "Population   -0.024650\n",
              "Longitude    -0.045967\n",
              "AveBedrms    -0.046701\n",
              "Latitude     -0.144160\n",
              "Name: sales, dtype: float64"
            ]
          },
          "metadata": {
            "tags": []
          },
          "execution_count": 7
        }
      ]
    },
    {
      "cell_type": "code",
      "metadata": {
        "id": "eL40bBX6VjuP"
      },
      "source": [
        ""
      ],
      "execution_count": null,
      "outputs": []
    },
    {
      "cell_type": "code",
      "metadata": {
        "id": "kt8fSmM8lqJj"
      },
      "source": [
        "X_train_full, X_test, y_train_full, y_test = train_test_split(housing.data, housing.target, random_state=42) # default 25% split"
      ],
      "execution_count": null,
      "outputs": []
    },
    {
      "cell_type": "code",
      "metadata": {
        "id": "y87MffKBnXZE",
        "outputId": "dfc7d6db-4595-40d6-bba3-7543dd8b96cd",
        "colab": {
          "base_uri": "https://localhost:8080/",
          "height": 85
        }
      },
      "source": [
        "print(X_train_full.shape)\n",
        "print(y_train_full.shape)\n",
        "print(X_test.shape)\n",
        "print(y_test.shape)"
      ],
      "execution_count": null,
      "outputs": [
        {
          "output_type": "stream",
          "text": [
            "(15480, 8)\n",
            "(15480,)\n",
            "(5160, 8)\n",
            "(5160,)\n"
          ],
          "name": "stdout"
        }
      ]
    },
    {
      "cell_type": "code",
      "metadata": {
        "id": "sY3GA7OfrMJD"
      },
      "source": [
        "X_train, X_valid, y_train, y_valid = train_test_split(X_train_full, y_train_full, random_state=42)"
      ],
      "execution_count": null,
      "outputs": []
    },
    {
      "cell_type": "code",
      "metadata": {
        "id": "5qFOBgcdrYQt",
        "outputId": "8ee78d7c-0aae-48d8-d2e0-34a813cd409d",
        "colab": {
          "base_uri": "https://localhost:8080/",
          "height": 85
        }
      },
      "source": [
        "print(X_train.shape)\n",
        "print(y_train.shape)\n",
        "print(X_valid.shape)\n",
        "print(y_valid.shape)"
      ],
      "execution_count": null,
      "outputs": [
        {
          "output_type": "stream",
          "text": [
            "(11610, 8)\n",
            "(11610,)\n",
            "(3870, 8)\n",
            "(3870,)\n"
          ],
          "name": "stdout"
        }
      ]
    },
    {
      "cell_type": "code",
      "metadata": {
        "id": "SM6sARZMuVrz",
        "outputId": "59832798-f1f3-4a3a-b123-9efe7cee35ea",
        "colab": {
          "base_uri": "https://localhost:8080/",
          "height": 51
        }
      },
      "source": [
        "# Values before transformation\n",
        "X_train[0]"
      ],
      "execution_count": null,
      "outputs": [
        {
          "output_type": "execute_result",
          "data": {
            "text/plain": [
              "array([ 3.52140000e+00,  1.50000000e+01,  3.04994451e+00,  1.10654828e+00,\n",
              "        1.44700000e+03,  1.60599334e+00,  3.76300000e+01, -1.22430000e+02])"
            ]
          },
          "metadata": {
            "tags": []
          },
          "execution_count": 12
        }
      ]
    },
    {
      "cell_type": "code",
      "metadata": {
        "id": "GWfgt9QBvM-4"
      },
      "source": [
        "import pandas as pd\n",
        "import matplotlib.pyplot as plt"
      ],
      "execution_count": null,
      "outputs": []
    },
    {
      "cell_type": "code",
      "metadata": {
        "id": "Row3VQJuvVCf",
        "outputId": "6aeaec7f-e23d-4394-92e1-78fed03893a3",
        "colab": {
          "base_uri": "https://localhost:8080/",
          "height": 204
        }
      },
      "source": [
        "housing_df = pd.DataFrame(housing.data, columns=housing.feature_names)\n",
        "housing_df.head()"
      ],
      "execution_count": null,
      "outputs": [
        {
          "output_type": "execute_result",
          "data": {
            "text/html": [
              "<div>\n",
              "<style scoped>\n",
              "    .dataframe tbody tr th:only-of-type {\n",
              "        vertical-align: middle;\n",
              "    }\n",
              "\n",
              "    .dataframe tbody tr th {\n",
              "        vertical-align: top;\n",
              "    }\n",
              "\n",
              "    .dataframe thead th {\n",
              "        text-align: right;\n",
              "    }\n",
              "</style>\n",
              "<table border=\"1\" class=\"dataframe\">\n",
              "  <thead>\n",
              "    <tr style=\"text-align: right;\">\n",
              "      <th></th>\n",
              "      <th>MedInc</th>\n",
              "      <th>HouseAge</th>\n",
              "      <th>AveRooms</th>\n",
              "      <th>AveBedrms</th>\n",
              "      <th>Population</th>\n",
              "      <th>AveOccup</th>\n",
              "      <th>Latitude</th>\n",
              "      <th>Longitude</th>\n",
              "    </tr>\n",
              "  </thead>\n",
              "  <tbody>\n",
              "    <tr>\n",
              "      <th>0</th>\n",
              "      <td>8.3252</td>\n",
              "      <td>41.0</td>\n",
              "      <td>6.984127</td>\n",
              "      <td>1.023810</td>\n",
              "      <td>322.0</td>\n",
              "      <td>2.555556</td>\n",
              "      <td>37.88</td>\n",
              "      <td>-122.23</td>\n",
              "    </tr>\n",
              "    <tr>\n",
              "      <th>1</th>\n",
              "      <td>8.3014</td>\n",
              "      <td>21.0</td>\n",
              "      <td>6.238137</td>\n",
              "      <td>0.971880</td>\n",
              "      <td>2401.0</td>\n",
              "      <td>2.109842</td>\n",
              "      <td>37.86</td>\n",
              "      <td>-122.22</td>\n",
              "    </tr>\n",
              "    <tr>\n",
              "      <th>2</th>\n",
              "      <td>7.2574</td>\n",
              "      <td>52.0</td>\n",
              "      <td>8.288136</td>\n",
              "      <td>1.073446</td>\n",
              "      <td>496.0</td>\n",
              "      <td>2.802260</td>\n",
              "      <td>37.85</td>\n",
              "      <td>-122.24</td>\n",
              "    </tr>\n",
              "    <tr>\n",
              "      <th>3</th>\n",
              "      <td>5.6431</td>\n",
              "      <td>52.0</td>\n",
              "      <td>5.817352</td>\n",
              "      <td>1.073059</td>\n",
              "      <td>558.0</td>\n",
              "      <td>2.547945</td>\n",
              "      <td>37.85</td>\n",
              "      <td>-122.25</td>\n",
              "    </tr>\n",
              "    <tr>\n",
              "      <th>4</th>\n",
              "      <td>3.8462</td>\n",
              "      <td>52.0</td>\n",
              "      <td>6.281853</td>\n",
              "      <td>1.081081</td>\n",
              "      <td>565.0</td>\n",
              "      <td>2.181467</td>\n",
              "      <td>37.85</td>\n",
              "      <td>-122.25</td>\n",
              "    </tr>\n",
              "  </tbody>\n",
              "</table>\n",
              "</div>"
            ],
            "text/plain": [
              "   MedInc  HouseAge  AveRooms  ...  AveOccup  Latitude  Longitude\n",
              "0  8.3252      41.0  6.984127  ...  2.555556     37.88    -122.23\n",
              "1  8.3014      21.0  6.238137  ...  2.109842     37.86    -122.22\n",
              "2  7.2574      52.0  8.288136  ...  2.802260     37.85    -122.24\n",
              "3  5.6431      52.0  5.817352  ...  2.547945     37.85    -122.25\n",
              "4  3.8462      52.0  6.281853  ...  2.181467     37.85    -122.25\n",
              "\n",
              "[5 rows x 8 columns]"
            ]
          },
          "metadata": {
            "tags": []
          },
          "execution_count": 14
        }
      ]
    },
    {
      "cell_type": "code",
      "metadata": {
        "id": "lzNWG2yvv9h5",
        "outputId": "c0bd2bec-bb3d-4e53-cc02-02d965ee67b5",
        "colab": {
          "base_uri": "https://localhost:8080/",
          "height": 1000
        }
      },
      "source": [
        "housing_df.hist(bins=50, figsize=(20, 15))"
      ],
      "execution_count": null,
      "outputs": [
        {
          "output_type": "execute_result",
          "data": {
            "text/plain": [
              "array([[<matplotlib.axes._subplots.AxesSubplot object at 0x7f35fda22940>,\n",
              "        <matplotlib.axes._subplots.AxesSubplot object at 0x7f35fd4f7f28>,\n",
              "        <matplotlib.axes._subplots.AxesSubplot object at 0x7f35fd493dd8>],\n",
              "       [<matplotlib.axes._subplots.AxesSubplot object at 0x7f35fd443198>,\n",
              "        <matplotlib.axes._subplots.AxesSubplot object at 0x7f35fd3f1518>,\n",
              "        <matplotlib.axes._subplots.AxesSubplot object at 0x7f35fd3a1898>],\n",
              "       [<matplotlib.axes._subplots.AxesSubplot object at 0x7f35fd3cec18>,\n",
              "        <matplotlib.axes._subplots.AxesSubplot object at 0x7f35fd37ef60>,\n",
              "        <matplotlib.axes._subplots.AxesSubplot object at 0x7f35fd37efd0>]],\n",
              "      dtype=object)"
            ]
          },
          "metadata": {
            "tags": []
          },
          "execution_count": 17
        },
        {
          "output_type": "display_data",
          "data": {
            "image/png": "[encoded data removed]",
            "text/plain": [
              "<Figure size 1440x1080 with 9 Axes>"
            ]
          },
          "metadata": {
            "tags": [],
            "needs_background": "light"
          }
        }
      ]
    },
    {
      "cell_type": "code",
      "metadata": {
        "id": "xBmFIQtOnf-i"
      },
      "source": [
        "scalar = StandardScaler()\n",
        "\n",
        "X_train = scalar.fit_transform(X_train) # fit().transform() - fit() calculates params required for z\n",
        "\n",
        "X_valid = scalar.transform(X_valid)\n",
        "X_test = scalar.transform(X_test)\n"
      ],
      "execution_count": null,
      "outputs": []
    },
    {
      "cell_type": "code",
      "metadata": {
        "id": "l24Ro4_fuhJv",
        "outputId": "e011e10e-1a37-434f-9245-dc37599b8358",
        "colab": {
          "base_uri": "https://localhost:8080/",
          "height": 51
        }
      },
      "source": [
        "# transformed values\n",
        "X_train[0]"
      ],
      "execution_count": null,
      "outputs": [
        {
          "output_type": "execute_result",
          "data": {
            "text/plain": [
              "array([-0.19397883, -1.07781319, -0.94338545,  0.01485314,  0.02073335,\n",
              "       -0.57291624,  0.92926047, -1.42215523])"
            ]
          },
          "metadata": {
            "tags": []
          },
          "execution_count": 19
        }
      ]
    },
    {
      "cell_type": "code",
      "metadata": {
        "id": "x9ziu7Rsum8S"
      },
      "source": [
        "import tensorflow as tf\n",
        "from tensorflow import keras"
      ],
      "execution_count": null,
      "outputs": []
    },
    {
      "cell_type": "code",
      "metadata": {
        "id": "UyU2c8NEFl2s",
        "outputId": "718baaeb-c546-47b9-f138-61666808a741",
        "colab": {
          "base_uri": "https://localhost:8080/",
          "height": 34
        }
      },
      "source": [
        "X_train.shape[1:]"
      ],
      "execution_count": null,
      "outputs": [
        {
          "output_type": "execute_result",
          "data": {
            "text/plain": [
              "(8,)"
            ]
          },
          "metadata": {
            "tags": []
          },
          "execution_count": 21
        }
      ]
    },
    {
      "cell_type": "markdown",
      "metadata": {
        "id": "j21ON132-cBb"
      },
      "source": [
        "# Multiple Inputs"
      ]
    },
    {
      "cell_type": "markdown",
      "metadata": {
        "id": "W-bpFBWW2Iny"
      },
      "source": [
        "![image.png](data:image/png;base64,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)"
      ]
    },
    {
      "cell_type": "code",
      "metadata": {
        "id": "RZlv8KThz5KX"
      },
      "source": [
        "input_A = keras.layers.Input(shape=[5], name='wide_input')\n",
        "input_B = keras.layers.Input(shape=[6], name='deep_input')\n",
        "\n",
        "hidden1 = keras.layers.Dense(30, activation='relu', name='hidden_1')(input_B)\n",
        "hidden2 = keras.layers.Dense(30, activation='relu', name='hidden_2')(hidden1)\n",
        "\n",
        "concat = keras.layers.concatenate([input_A, hidden2])\n",
        "output = keras.layers.Dense(1, name='output')(concat)\n",
        "\n",
        "model = keras.Model(inputs=[input_A, input_B], outputs=[output])"
      ],
      "execution_count": null,
      "outputs": []
    },
    {
      "cell_type": "code",
      "metadata": {
        "id": "TwmUEtg7PMBy",
        "outputId": "acf23d38-7b04-41e7-d9fe-d7f3eebbe9ad",
        "colab": {
          "base_uri": "https://localhost:8080/",
          "height": 374
        }
      },
      "source": [
        "model.summary()"
      ],
      "execution_count": null,
      "outputs": [
        {
          "output_type": "stream",
          "text": [
            "Model: \"functional_1\"\n",
            "__________________________________________________________________________________________________\n",
            "Layer (type)                    Output Shape         Param #     Connected to                     \n",
            "==================================================================================================\n",
            "deep_input (InputLayer)         [(None, 6)]          0                                            \n",
            "__________________________________________________________________________________________________\n",
            "hidden_1 (Dense)                (None, 30)           210         deep_input[0][0]                 \n",
            "__________________________________________________________________________________________________\n",
            "wide_input (InputLayer)         [(None, 5)]          0                                            \n",
            "__________________________________________________________________________________________________\n",
            "hidden_2 (Dense)                (None, 30)           930         hidden_1[0][0]                   \n",
            "__________________________________________________________________________________________________\n",
            "concatenate (Concatenate)       (None, 35)           0           wide_input[0][0]                 \n",
            "                                                                 hidden_2[0][0]                   \n",
            "__________________________________________________________________________________________________\n",
            "output (Dense)                  (None, 1)            36          concatenate[0][0]                \n",
            "==================================================================================================\n",
            "Total params: 1,176\n",
            "Trainable params: 1,176\n",
            "Non-trainable params: 0\n",
            "__________________________________________________________________________________________________\n"
          ],
          "name": "stdout"
        }
      ]
    },
    {
      "cell_type": "code",
      "metadata": {
        "id": "bvqWSI09ANn7"
      },
      "source": [
        "X_train_A, X_train_B = X_train[:, :5], X_train[:, 2:]\n",
        "X_valid_A, X_valid_B = X_valid[:, :5], X_valid[:, 2:]\n",
        "X_test_A, X_test_B = X_test[:, :5], X_test[:, 2:]\n",
        "X_new_A, X_new_B = X_test_A[:3], X_test_B[:3]"
      ],
      "execution_count": null,
      "outputs": []
    },
    {
      "cell_type": "code",
      "metadata": {
        "id": "PUo0LkeOS7nh",
        "outputId": "f5f681e7-ef91-48dc-9750-b4a305c56348",
        "colab": {
          "base_uri": "https://localhost:8080/",
          "height": 1000
        }
      },
      "source": [
        "model.compile(optimizer='adam', loss='huber_loss',)\n",
        "history = model.fit(x=[X_train_A, X_train_B], y=y_train, epochs=30, validation_data=([X_valid_A, X_valid_B], y_valid))"
      ],
      "execution_count": null,
      "outputs": [
        {
          "output_type": "stream",
          "text": [
            "Epoch 1/30\n",
            "363/363 [==============================] - 1s 2ms/step - loss: 0.1402 - val_loss: 0.1538\n",
            "Epoch 2/30\n",
            "363/363 [==============================] - 1s 1ms/step - loss: 0.1391 - val_loss: 0.1414\n",
            "Epoch 3/30\n",
            "363/363 [==============================] - 1s 1ms/step - loss: 0.1382 - val_loss: 0.1481\n",
            "Epoch 4/30\n",
            "363/363 [==============================] - 1s 2ms/step - loss: 0.1387 - val_loss: 0.1539\n",
            "Epoch 5/30\n",
            "363/363 [==============================] - 1s 2ms/step - loss: 0.1392 - val_loss: 0.1474\n",
            "Epoch 6/30\n",
            "363/363 [==============================] - 1s 2ms/step - loss: 0.1382 - val_loss: 0.1387\n",
            "Epoch 7/30\n",
            "363/363 [==============================] - 1s 1ms/step - loss: 0.1374 - val_loss: 0.1506\n",
            "Epoch 8/30\n",
            "363/363 [==============================] - 1s 2ms/step - loss: 0.1376 - val_loss: 0.1316\n",
            "Epoch 9/30\n",
            "363/363 [==============================] - 1s 1ms/step - loss: 0.1378 - val_loss: 0.1477\n",
            "Epoch 10/30\n",
            "363/363 [==============================] - 1s 1ms/step - loss: 0.1372 - val_loss: 0.1587\n",
            "Epoch 11/30\n",
            "363/363 [==============================] - 1s 1ms/step - loss: 0.1365 - val_loss: 0.1345\n",
            "Epoch 12/30\n",
            "363/363 [==============================] - 1s 1ms/step - loss: 0.1358 - val_loss: 0.1569\n",
            "Epoch 13/30\n",
            "363/363 [==============================] - 1s 2ms/step - loss: 0.1358 - val_loss: 0.1573\n",
            "Epoch 14/30\n",
            "363/363 [==============================] - 1s 2ms/step - loss: 0.1366 - val_loss: 0.1415\n",
            "Epoch 15/30\n",
            "363/363 [==============================] - 1s 2ms/step - loss: 0.1357 - val_loss: 0.1348\n",
            "Epoch 16/30\n",
            "363/363 [==============================] - 1s 1ms/step - loss: 0.1341 - val_loss: 0.1427\n",
            "Epoch 17/30\n",
            "363/363 [==============================] - 1s 1ms/step - loss: 0.1352 - val_loss: 0.1512\n",
            "Epoch 18/30\n",
            "363/363 [==============================] - 1s 1ms/step - loss: 0.1353 - val_loss: 0.1511\n",
            "Epoch 19/30\n",
            "363/363 [==============================] - 1s 1ms/step - loss: 0.1352 - val_loss: 0.1372\n",
            "Epoch 20/30\n",
            "363/363 [==============================] - 1s 2ms/step - loss: 0.1337 - val_loss: 0.1555\n",
            "Epoch 21/30\n",
            "363/363 [==============================] - 1s 2ms/step - loss: 0.1346 - val_loss: 0.1328\n",
            "Epoch 22/30\n",
            "363/363 [==============================] - 1s 1ms/step - loss: 0.1336 - val_loss: 0.1312\n",
            "Epoch 23/30\n",
            "363/363 [==============================] - 1s 1ms/step - loss: 0.1331 - val_loss: 0.1421\n",
            "Epoch 24/30\n",
            "363/363 [==============================] - 1s 1ms/step - loss: 0.1329 - val_loss: 0.1487\n",
            "Epoch 25/30\n",
            "363/363 [==============================] - 1s 2ms/step - loss: 0.1330 - val_loss: 0.1393\n",
            "Epoch 26/30\n",
            "363/363 [==============================] - 1s 1ms/step - loss: 0.1328 - val_loss: 0.1423\n",
            "Epoch 27/30\n",
            "363/363 [==============================] - 1s 1ms/step - loss: 0.1327 - val_loss: 0.1314\n",
            "Epoch 28/30\n",
            "363/363 [==============================] - 1s 1ms/step - loss: 0.1316 - val_loss: 0.1383\n",
            "Epoch 29/30\n",
            "363/363 [==============================] - 1s 1ms/step - loss: 0.1313 - val_loss: 0.1586\n",
            "Epoch 30/30\n",
            "363/363 [==============================] - 1s 1ms/step - loss: 0.1319 - val_loss: 0.1376\n"
          ],
          "name": "stdout"
        }
      ]
    },
    {
      "cell_type": "markdown",
      "metadata": {
        "id": "FlIGxIzbChGs"
      },
      "source": [
        "### Evaluate the model"
      ]
    },
    {
      "cell_type": "code",
      "metadata": {
        "id": "0CxApiA2PiJA",
        "outputId": "daacda86-ef59-44d9-8606-68617feea2d3",
        "colab": {
          "base_uri": "https://localhost:8080/",
          "height": 51
        }
      },
      "source": [
        "hloss_test = model.evaluate(x=[X_test_A, X_test_B], y=y_test)\n",
        "hloss_test"
      ],
      "execution_count": null,
      "outputs": [
        {
          "output_type": "stream",
          "text": [
            "162/162 [==============================] - 0s 809us/step - loss: 0.1345\n"
          ],
          "name": "stdout"
        },
        {
          "output_type": "execute_result",
          "data": {
            "text/plain": [
              "0.13451631367206573"
            ]
          },
          "metadata": {
            "tags": []
          },
          "execution_count": 34
        }
      ]
    },
    {
      "cell_type": "markdown",
      "metadata": {
        "id": "0CAoBFZBBWUh"
      },
      "source": [
        "### Predict"
      ]
    },
    {
      "cell_type": "code",
      "metadata": {
        "id": "epkS3AyXBVqT",
        "outputId": "d4909f4c-b9d0-43fe-b56f-de997bff33a7",
        "colab": {
          "base_uri": "https://localhost:8080/",
          "height": 68
        }
      },
      "source": [
        "X_new_A, X_new_B = X_test_A[:3], X_test_B[:3]\n",
        "\n",
        "y_predict = model.predict([X_new_A, X_new_B])\n",
        "y_predict"
      ],
      "execution_count": null,
      "outputs": [
        {
          "output_type": "execute_result",
          "data": {
            "text/plain": [
              "array([[0.35675246],\n",
              "       [1.0723217 ],\n",
              "       [4.2513256 ]], dtype=float32)"
            ]
          },
          "metadata": {
            "tags": []
          },
          "execution_count": 35
        }
      ]
    },
    {
      "cell_type": "markdown",
      "metadata": {
        "id": "SqJzeq_DCoxx"
      },
      "source": [
        "### A variant\n",
        "\n",
        "- Take inputs with lower correlation via deep route\n",
        "- Take inputs with higher correlation via simple route"
      ]
    },
    {
      "cell_type": "code",
      "metadata": {
        "id": "wSq0y853Jxdx"
      },
      "source": [
        ""
      ],
      "execution_count": null,
      "outputs": []
    }
  ]
}